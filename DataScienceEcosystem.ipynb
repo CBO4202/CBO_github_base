{
 "cells": [
  {
   "cell_type": "markdown",
   "id": "5f2a97ff-32cd-4dbc-93cf-c46bf5414139",
   "metadata": {
    "tags": []
   },
   "source": [
    "# Data Science Tools and Ecosystem"
   ]
  },
  {
   "cell_type": "markdown",
   "id": "2b26bc72-8a90-40f0-8f11-95ce95cd27cb",
   "metadata": {
    "tags": []
   },
   "source": [
    "## Introduction\n",
    "This document is a brief overview of data science tools and ecosystem. In this notebook, data science tools and ecosystem are summarized. "
   ]
  },
  {
   "cell_type": "markdown",
   "id": "143b0c87-33ff-4774-88cd-d1b0ed69a526",
   "metadata": {},
   "source": [
    "## **Objectives**\n",
    "- Data science Languages\n",
    "- Data Science Libraries\n",
    "- Data Science Tools"
   ]
  },
  {
   "cell_type": "markdown",
   "id": "af514753-6fbd-463c-b02a-f1f4f5825974",
   "metadata": {},
   "source": [
    "## Data science Languages\n",
    "The most popular languages that data scientists use are:\n",
    "- Python\n",
    "- R\n",
    "- SQL\n",
    "\n",
    "Other data science languages includes:\n",
    "- Scala\n",
    "- Java\n",
    "- C++\n",
    "- Julia"
   ]
  },
  {
   "cell_type": "markdown",
   "id": "4e9f2228-1218-46a1-90cb-70c8d1db4fbc",
   "metadata": {},
   "source": [
    "## Data Science Libraries\n",
    "Libraries are a collection of functions and methods that allow you to perform many actions without writing the code. They are also called frameworks.\n",
    "Some of the commonly used libraries includes:\n",
    "1. Pandas \n",
    "2. NumPy \n",
    "3. Matplotlib \n",
    "4. Seaborn \n",
    "5. Karas \n",
    "6. Scikit-learn "
   ]
  },
  {
   "cell_type": "markdown",
   "id": "c3afc332-23e4-472c-809a-a427aaa5d47b",
   "metadata": {},
   "source": [
    "## Data Science Tools\n",
    "There are many open source data science tools, they are include:\n",
    "| Data Science Tools |\n",
    "| --------------------- |\n",
    "| MongoDB |\n",
    "| Apache AirFlow |\n",
    "| Kibana |\n",
    "| Redhat OpenShift |\n",
    "| ModelDB |\n",
    "| GitHub |\n"
   ]
  },
  {
   "cell_type": "markdown",
   "id": "257b8c2b-cdce-4e86-8684-b1b0672850fa",
   "metadata": {},
   "source": [
    "### Examples of arithmetic expressions in Python\n"
   ]
  },
  {
   "cell_type": "code",
   "execution_count": 5,
   "id": "42082e66-785d-4aed-9c6c-4a052f209598",
   "metadata": {
    "tags": []
   },
   "outputs": [
    {
     "data": {
      "text/plain": [
       "17"
      ]
     },
     "execution_count": 5,
     "metadata": {},
     "output_type": "execute_result"
    }
   ],
   "source": [
    "(3*4)+5"
   ]
  },
  {
   "cell_type": "markdown",
   "id": "b94163d1-08e5-47b6-b128-4eaf507c3fd6",
   "metadata": {},
   "source": [
    "This a simple arithmetic expression to mutiply then add integers"
   ]
  },
  {
   "cell_type": "code",
   "execution_count": 7,
   "id": "65723e50-ffaf-4c15-9015-10cdf39f658c",
   "metadata": {
    "tags": []
   },
   "outputs": [
    {
     "data": {
      "text/plain": [
       "3.3333333333333335"
      ]
     },
     "execution_count": 7,
     "metadata": {},
     "output_type": "execute_result"
    }
   ],
   "source": [
    "200/60"
   ]
  },
  {
   "cell_type": "markdown",
   "id": "3f438f29-44b9-4659-a260-bc21addce728",
   "metadata": {},
   "source": [
    "This will convert 200 minutes to hours by diving by 60"
   ]
  },
  {
   "cell_type": "markdown",
   "id": "49d741da-4a27-418e-ac88-e6f3184e2786",
   "metadata": {},
   "source": [
    "## Author\n",
    "Meghan Beverly"
   ]
  },
  {
   "cell_type": "code",
   "execution_count": null,
   "id": "fbbc1e33-240b-44c3-a657-33cd4ec0f2e9",
   "metadata": {},
   "outputs": [],
   "source": []
  }
 ],
 "metadata": {
  "kernelspec": {
   "display_name": "Python",
   "language": "python",
   "name": "conda-env-python-py"
  },
  "language_info": {
   "codemirror_mode": {
    "name": "ipython",
    "version": 3
   },
   "file_extension": ".py",
   "mimetype": "text/x-python",
   "name": "python",
   "nbconvert_exporter": "python",
   "pygments_lexer": "ipython3",
   "version": "3.7.12"
  }
 },
 "nbformat": 4,
 "nbformat_minor": 5
}
